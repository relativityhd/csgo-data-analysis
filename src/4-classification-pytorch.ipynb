{
 "cells": [
  {
   "cell_type": "markdown",
   "metadata": {},
   "source": [
    "# Klassifikation mit PyTorch\n",
    "\n",
    "Dieses vierte und letzte Notebook nutzt PyTorch um Neuronale Netze zu entwickeln, welche professionelle Spieler von unprofessionellen trennt. Dazu wird zuerst ein `Torch Dataset` und anschließend ein `PyTorch-Lightning DataModule` erstellt. Dieses kann dann vom `PyTorch-Lightning Module` über den Trainer konsumiert werden. `PyTorch-Lightning` ist ein Wrapper um schnell Neuronale Netze zu implementieren und diese mit diversen Methoden zu trainieren."
   ]
  },
  {
   "cell_type": "code",
   "execution_count": 2,
   "metadata": {},
   "outputs": [],
   "source": [
    "import time\n",
    "from typing import List\n",
    "import logging\n",
    "\n",
    "import pandas as pd\n",
    "import numpy as np\n",
    "import torch\n",
    "import torch.nn as nn\n",
    "import torch.optim as optim\n",
    "from torch.utils.data import DataLoader, Dataset, random_split\n",
    "import pytorch_lightning as pl\n",
    "import torchmetrics\n",
    "import optuna\n",
    "from optuna.integration import PyTorchLightningPruningCallback\n",
    "import seaborn as sns"
   ]
  },
  {
   "cell_type": "markdown",
   "metadata": {},
   "source": [
    "## Das Dataset\n",
    "\n",
    "Das Dataset basiert auf dem im zweiten Notebook erzeugtem Datensatz in Form eines DataFrames. Aus diesem wird bei der Erstellung des Datasets zuerst für die beiden kategorischen Features `Map` und `Region` ein Label-Encoder implementiert. Darauf werden die encodierten Kategorien zusammen mit den ohnehin schon numerischen Werten zu Numpy-Arrays extrahiert, damit diese später in PyTorch-Tensoren transformiert werden können. Wie in dem letzten Notebook werden lediglich die Attribute `[\"Region\", \"Map\", \"K/R Ratio\", \"K/D Ratio\", \"Premade\", \"Kills\", \"MVPs\", \"Headshots\", \"Triple Kills\"]` extrahiert. Das PyTorch-Lightning Data Module implementiert den Train/Validate/Test-Split mit einer 81/9/10 Ratio. Weiterhin implementiert das Data Module auch den PyTorch DataLoader, welcher die Daten des Datensatzes in Batches einteilt und diese zu Torch-Tensoren umwandelt. Die Trainingsdaten werden dabei zufällig gebatched, die Validierungs- und Testdaten um Vergleichbarkeit beizubehalten nicht zufällig. Um die Daten schneller zu laden werden 12 Worker benutzt, wodurch 11 Batches schon vor Benutzung auf anderen Threads geladen werden."
   ]
  },
  {
   "cell_type": "code",
   "execution_count": 2,
   "metadata": {},
   "outputs": [],
   "source": [
    "class CsgoProfessionalDataset(Dataset):\n",
    "    def __init__(self, df: pd.DataFrame):\n",
    "        region_map = {k:v for v, k in enumerate(df[\"Region\"].unique())}\n",
    "        map_map = {k:v for v, k in enumerate(df[\"Map\"].unique())}\n",
    "        self.x = np.array([\n",
    "            np.array([region_map[x] for x in df[\"Region\"]]),\n",
    "            np.array([map_map[x] for x in df[\"Map\"]]),\n",
    "            df[\"K/R Ratio\"].to_numpy(),\n",
    "            df[\"K/D Ratio\"].to_numpy(),\n",
    "            df[\"Premade\"].to_numpy(),\n",
    "            df[\"Kills\"].to_numpy(),\n",
    "            df[\"MVPs\"].to_numpy(),\n",
    "            df[\"Headshots\"].to_numpy(),\n",
    "            df[\"Triple Kills\"].to_numpy()\n",
    "        ], dtype=np.float32)\n",
    "        self.y = df[\"Professional\"].to_numpy(np.float32)\n",
    "\n",
    "    def __getitem__(self, idx):\n",
    "        return self.x[:, idx], self.y[idx]\n",
    "\n",
    "    def __len__(self):\n",
    "        return len(self.y)\n",
    "\n",
    "class CsgoProfessionalDataModule(pl.LightningDataModule):\n",
    "    def __init__(self, df: pd.DataFrame, batch_size=32):\n",
    "        super().__init__()\n",
    "        self.df = df\n",
    "        self.batch_size = batch_size\n",
    "\n",
    "    def setup(self, stage = None):\n",
    "        fit_test_split = int(len(self.df) * 0.9)\n",
    "        if stage == \"fit\" or stage is None:\n",
    "            ds_full = CsgoProfessionalDataset(self.df[:fit_test_split])\n",
    "            train_len = int(fit_test_split * 0.9)\n",
    "            val_len = fit_test_split - train_len\n",
    "            self.ds_train, self.ds_val = random_split(ds_full, [train_len, val_len])\n",
    "\n",
    "        if stage == \"test\" or stage is None:\n",
    "            self.ds_test = CsgoProfessionalDataset(self.df[fit_test_split:])\n",
    "\n",
    "    def train_dataloader(self):\n",
    "        return DataLoader(self.ds_train, batch_size=self.batch_size, drop_last=True, shuffle=True, num_workers=12)\n",
    "\n",
    "    def val_dataloader(self):\n",
    "        return DataLoader(self.ds_val, batch_size=self.batch_size, drop_last=True, num_workers=12)\n",
    "\n",
    "    def test_dataloader(self):\n",
    "        return DataLoader(self.ds_test, batch_size=self.batch_size, drop_last=True, num_workers=12)"
   ]
  },
  {
   "cell_type": "markdown",
   "metadata": {},
   "source": [
    "## Das Modell\n",
    "\n",
    "Das PyTorch-Lightning Module implementiert das neuronale Netz sowie die Trainings-Loop. Allgemein wird sich an sämtliche Standards für die Implementierung von PyTorch Modellen mit PyTorch-Lightning gehalten, um so viele Funktionen von Lightning wie möglich nutzen zu können und die Code-Base entsprechend klein, einfach und verständlich zu halten. Dazu ist natürlich entsprechendes Vorwissen über die Funktionsweise des PyTorch-Lightning Frameworks vorausgesetzt. Das Netz hat folgenden Aufbau:\n",
    "\n",
    "- `9` Input-Nodes\n",
    "- `9xN` Gewichte\n",
    "-> `N` Hidden-Nodes\n",
    "- ReLU Aktivierungsfunktion\n",
    "- Dropout\n",
    "-> `N` Hidden-Nodes\n",
    "- `NxN` Gewichte\n",
    "-> `N` Hidden-Nodes\n",
    "- ReLU Aktivierungsfunktion\n",
    "- Dropout\n",
    "-> `N` Hidden-Nodes\n",
    "- `Nx1` Gewichte\n",
    "-> `1` Node\n",
    "- Sigmoid\n",
    "- Threshold `0.5`\n",
    "-> Ergebnis\n",
    "\n",
    "Die Auswahl dieser Architektur geschah willkürlich basierend auf Erfahrung und Ausprobieren.\n",
    "\n",
    "In der Trainigns-Loop wird der `Binary-Cross-Entropy-With-Logits` Verlust berechnet, entsprechend ohne Anwendung der Sigmoid Funktion. Diese ist mathematisch in die Verlustfunktion integriert und muss deshalb nur bei der Inferenz angewendet werden. Das Training optimiert über den Adam-Optimierungsalgorithmus. Zur Validierung wird die Bibliothek `torchmetrics` genutzt, welche die schon im 3. Notebook genutzten Metriken Accuracy, F1Score, Precision und Recall implementiert und auf PyTorch-Lightning besonders angepasst ist."
   ]
  },
  {
   "cell_type": "code",
   "execution_count": 3,
   "metadata": {},
   "outputs": [],
   "source": [
    "class CsgoProfessionalClassifier(pl.LightningModule):\n",
    "\n",
    "    def __init__(self, learning_rate: float, hidden_layers: int, dropout: float, loss_weight: float=0.5):\n",
    "        super().__init__()\n",
    "        self.learning_rate = learning_rate\n",
    "        self.layers = nn.Sequential(\n",
    "            nn.Linear(9, hidden_layers),\n",
    "            nn.ReLU(),\n",
    "            nn.Dropout(dropout),\n",
    "            nn.Linear(hidden_layers, hidden_layers),\n",
    "            nn.ReLU(),\n",
    "            nn.Dropout(dropout),\n",
    "            nn.Linear(hidden_layers, 1)\n",
    "        )\n",
    "        self.loss = nn.BCEWithLogitsLoss(pos_weight=torch.tensor(loss_weight))\n",
    "        self.sigmoid = nn.Sigmoid()\n",
    "        self.metrics = torchmetrics.MetricCollection([\n",
    "            #torchmetrics.AUC(),\n",
    "            torchmetrics.Accuracy(),\n",
    "            torchmetrics.F1Score(),\n",
    "            torchmetrics.Precision(),\n",
    "            torchmetrics.Recall()\n",
    "        ])\n",
    "\n",
    "    def forward(self, x: torch.Tensor):\n",
    "        x = self.layers(x)\n",
    "        x = x.squeeze()\n",
    "        return x\n",
    "\n",
    "    def training_step(self, batch: List[torch.Tensor], batch_idx):\n",
    "        x, y = batch\n",
    "        logits = self.forward(x)\n",
    "        loss = self.loss(logits, y)\n",
    "        self.log(\"train_loss\", loss)\n",
    "        return loss\n",
    "\n",
    "    def validation_step(self, batch: List[torch.Tensor], batch_idx):\n",
    "        x, y = batch\n",
    "        logits = self.forward(x)\n",
    "        loss = self.loss(logits, y)\n",
    "        self.log(\"val_loss\", loss)\n",
    "        preds = self.sigmoid(logits)\n",
    "        self.metrics(preds, y.int())\n",
    "        self.log_dict(self.metrics)\n",
    "\n",
    "    def configure_optimizers(self):\n",
    "        optimizer = optim.Adam(self.parameters(), lr=self.learning_rate)\n",
    "        return optimizer"
   ]
  },
  {
   "cell_type": "markdown",
   "metadata": {},
   "source": [
    "## Hyperparameter-Optimierung\n",
    "\n",
    "Zur Optimierung der Hyperparameter wird wieder Optuna genutzt. Es werden die drei Hyperparameter:\n",
    "\n",
    "- `hidden_layers` Größe der beiden Hidden-Layer des Netzes\n",
    "- `dropout` Dropout Wahrscheinlichkeit beim Training\n",
    "- `learning_rate` Lernrate beim Training\n",
    "\n",
    "Ein Training ist recht Rechenaufwendig, weshalb zum einen lediglich ein Subset des Datensatzes über maximal 20 Epochen trainiert wird und weiterhin Pruning eingesetzt wird, also verfrühtes stoppen eines Trainings sollte dies weniger schnell oder gut konvergieren als vorherige. Die Batch-Größe ist immer 32.\n",
    "\n",
    "PyTorch-Lightning Loggs dabei die Metriken in den `lightning_logs` Ordner mit TensorBoard. Die Metriken können live während dem Training über TensorBoard angeschaut werden:\n",
    "\n",
    "```sh\n",
    "$ pwd\n",
    "/path/to/this/repo # ! Not /path/to/this/repo/src\n",
    "# Wenn Poetry zur Installation genutzt wurde, aber jedes Environment mit TensorBoard geht auch\n",
    "$ poetry shell\n",
    "\n",
    "$ tensorboard --logdir ./src/lightning_logs\n",
    "```\n",
    "\n",
    "Über Tensorboard ist es entsprechend auch möglich, die Auswirkungen verschiedener Hyperparemeter auszuwerten.\n",
    "\n",
    "> In der Abgabe ist bereits der Ordner `lightning_logs` mit den entsprechenden Logs vom durchgeführtem Training enthalten "
   ]
  },
  {
   "cell_type": "code",
   "execution_count": 4,
   "metadata": {},
   "outputs": [],
   "source": [
    "df: pd.DataFrame = pd.read_feather(\"../data/2-player_match_statistics_cleaned.feather\")"
   ]
  },
  {
   "cell_type": "code",
   "execution_count": 5,
   "metadata": {},
   "outputs": [
    {
     "name": "stderr",
     "output_type": "stream",
     "text": [
      "\u001b[32m[I 2022-07-25 12:56:12,135]\u001b[0m A new study created in memory with name: no-name-748f8c0f-aeca-4856-bcd4-2139469e319f\u001b[0m\n",
      "\u001b[32m[I 2022-07-25 12:56:42,946]\u001b[0m Trial 0 finished with value: 0.47925034165382385 and parameters: {'hidden_layers': 340, 'dropout': 0.4571817581154333, 'learning_rate': 2.223946104391299e-05}. Best is trial 0 with value: 0.47925034165382385.\u001b[0m\n",
      "\u001b[32m[I 2022-07-25 12:57:11,608]\u001b[0m Trial 1 finished with value: 0.5509989261627197 and parameters: {'hidden_layers': 280, 'dropout': 0.3424809876181723, 'learning_rate': 2.1007868345622564e-06}. Best is trial 1 with value: 0.5509989261627197.\u001b[0m\n",
      "\u001b[32m[I 2022-07-25 12:57:40,176]\u001b[0m Trial 2 finished with value: 0.5603113174438477 and parameters: {'hidden_layers': 580, 'dropout': 0.053043236679195915, 'learning_rate': 1.009150271337023e-07}. Best is trial 2 with value: 0.5603113174438477.\u001b[0m\n",
      "\u001b[32m[I 2022-07-25 12:58:09,090]\u001b[0m Trial 3 finished with value: 0.5536062717437744 and parameters: {'hidden_layers': 310, 'dropout': 0.4166026719836675, 'learning_rate': 4.735133621631637e-06}. Best is trial 2 with value: 0.5603113174438477.\u001b[0m\n",
      "\u001b[32m[I 2022-07-25 12:58:38,334]\u001b[0m Trial 4 finished with value: 0.48143985867500305 and parameters: {'hidden_layers': 100, 'dropout': 0.31884920010001727, 'learning_rate': 1.0972995903331445e-06}. Best is trial 2 with value: 0.5603113174438477.\u001b[0m\n",
      "\u001b[32m[I 2022-07-25 12:58:47,446]\u001b[0m Trial 5 pruned. Trial was pruned at epoch 5.\u001b[0m\n",
      "\u001b[32m[I 2022-07-25 12:58:56,434]\u001b[0m Trial 6 pruned. Trial was pruned at epoch 5.\u001b[0m\n",
      "\u001b[32m[I 2022-07-25 12:59:09,843]\u001b[0m Trial 7 pruned. Trial was pruned at epoch 8.\u001b[0m\n",
      "\u001b[32m[I 2022-07-25 12:59:18,789]\u001b[0m Trial 8 pruned. Trial was pruned at epoch 5.\u001b[0m\n",
      "\u001b[32m[I 2022-07-25 12:59:48,384]\u001b[0m Trial 9 finished with value: 0.556745171546936 and parameters: {'hidden_layers': 540, 'dropout': 0.24574823607802626, 'learning_rate': 1.718344750617885e-05}. Best is trial 2 with value: 0.5603113174438477.\u001b[0m\n",
      "\u001b[32m[I 2022-07-25 13:00:28,920]\u001b[0m Trial 10 finished with value: 0.5520263314247131 and parameters: {'hidden_layers': 940, 'dropout': 0.0015162525967938878, 'learning_rate': 1.336025391795805e-07}. Best is trial 2 with value: 0.5603113174438477.\u001b[0m\n",
      "\u001b[32m[I 2022-07-25 13:00:38,018]\u001b[0m Trial 11 pruned. Trial was pruned at epoch 5.\u001b[0m\n",
      "\u001b[32m[I 2022-07-25 13:01:07,112]\u001b[0m Trial 12 finished with value: 0.4849397540092468 and parameters: {'hidden_layers': 750, 'dropout': 0.18688292654725777, 'learning_rate': 6.902864843406065e-06}. Best is trial 2 with value: 0.5603113174438477.\u001b[0m\n",
      "\u001b[32m[I 2022-07-25 13:01:36,802]\u001b[0m Trial 13 finished with value: 0.596707820892334 and parameters: {'hidden_layers': 440, 'dropout': 0.1789129615245975, 'learning_rate': 1.001735920842319e-05}. Best is trial 13 with value: 0.596707820892334.\u001b[0m\n",
      "\u001b[32m[I 2022-07-25 13:02:06,993]\u001b[0m Trial 14 finished with value: 0.5490196347236633 and parameters: {'hidden_layers': 440, 'dropout': 0.08588126679885472, 'learning_rate': 4.2405336606295733e-07}. Best is trial 13 with value: 0.596707820892334.\u001b[0m\n",
      "\u001b[32m[I 2022-07-25 13:02:36,256]\u001b[0m Trial 15 finished with value: 0.5720250010490417 and parameters: {'hidden_layers': 730, 'dropout': 0.02144158423935777, 'learning_rate': 8.066791477718407e-06}. Best is trial 13 with value: 0.596707820892334.\u001b[0m\n",
      "\u001b[32m[I 2022-07-25 13:02:52,639]\u001b[0m Trial 16 pruned. Trial was pruned at epoch 10.\u001b[0m\n",
      "\u001b[32m[I 2022-07-25 13:03:01,985]\u001b[0m Trial 17 pruned. Trial was pruned at epoch 5.\u001b[0m\n",
      "\u001b[32m[I 2022-07-25 13:03:32,199]\u001b[0m Trial 18 finished with value: 0.49243468046188354 and parameters: {'hidden_layers': 850, 'dropout': 0.22520689079813652, 'learning_rate': 1.52582248194651e-05}. Best is trial 13 with value: 0.596707820892334.\u001b[0m\n",
      "\u001b[32m[I 2022-07-25 13:03:41,638]\u001b[0m Trial 19 pruned. Trial was pruned at epoch 5.\u001b[0m\n",
      "\u001b[32m[I 2022-07-25 13:04:12,370]\u001b[0m Trial 20 finished with value: 0.5454545617103577 and parameters: {'hidden_layers': 440, 'dropout': 0.18450880680638698, 'learning_rate': 3.4601251847649093e-06}. Best is trial 13 with value: 0.596707820892334.\u001b[0m\n",
      "\u001b[32m[I 2022-07-25 13:04:45,168]\u001b[0m Trial 21 finished with value: 0.5695067048072815 and parameters: {'hidden_layers': 630, 'dropout': 0.04592024541340908, 'learning_rate': 9.713089742754589e-06}. Best is trial 13 with value: 0.596707820892334.\u001b[0m\n",
      "\u001b[32m[I 2022-07-25 13:05:15,541]\u001b[0m Trial 22 finished with value: 0.5521191358566284 and parameters: {'hidden_layers': 430, 'dropout': 0.04442457519649185, 'learning_rate': 9.165079785459102e-06}. Best is trial 13 with value: 0.596707820892334.\u001b[0m\n",
      "\u001b[32m[I 2022-07-25 13:05:45,589]\u001b[0m Trial 23 finished with value: 0.598739504814148 and parameters: {'hidden_layers': 650, 'dropout': 0.11177468732734488, 'learning_rate': 3.8398501413668467e-05}. Best is trial 23 with value: 0.598739504814148.\u001b[0m\n",
      "\u001b[32m[I 2022-07-25 13:05:54,929]\u001b[0m Trial 24 pruned. Trial was pruned at epoch 5.\u001b[0m\n",
      "\u001b[32m[I 2022-07-25 13:06:24,988]\u001b[0m Trial 25 finished with value: 0.5765765905380249 and parameters: {'hidden_layers': 650, 'dropout': 0.2038130887383188, 'learning_rate': 8.388276252681793e-05}. Best is trial 23 with value: 0.598739504814148.\u001b[0m\n",
      "\u001b[32m[I 2022-07-25 13:06:54,835]\u001b[0m Trial 26 finished with value: 0.5443499088287354 and parameters: {'hidden_layers': 480, 'dropout': 0.20223748250845602, 'learning_rate': 9.302803091426235e-05}. Best is trial 23 with value: 0.598739504814148.\u001b[0m\n",
      "\u001b[32m[I 2022-07-25 13:07:24,746]\u001b[0m Trial 27 finished with value: 0.5738916397094727 and parameters: {'hidden_layers': 660, 'dropout': 0.24710825321928245, 'learning_rate': 6.0543287042603146e-05}. Best is trial 23 with value: 0.598739504814148.\u001b[0m\n",
      "\u001b[32m[I 2022-07-25 13:07:54,716]\u001b[0m Trial 28 finished with value: 0.5150214433670044 and parameters: {'hidden_layers': 860, 'dropout': 0.2829372314719725, 'learning_rate': 2.8711525334106806e-05}. Best is trial 23 with value: 0.598739504814148.\u001b[0m\n",
      "\u001b[32m[I 2022-07-25 13:08:04,106]\u001b[0m Trial 29 pruned. Trial was pruned at epoch 5.\u001b[0m\n",
      "\u001b[32m[I 2022-07-25 13:08:34,304]\u001b[0m Trial 30 finished with value: 0.5524402856826782 and parameters: {'hidden_layers': 10, 'dropout': 0.1588953259863999, 'learning_rate': 7.342165292914397e-05}. Best is trial 23 with value: 0.598739504814148.\u001b[0m\n",
      "\u001b[32m[I 2022-07-25 13:09:04,768]\u001b[0m Trial 31 finished with value: 0.5606229305267334 and parameters: {'hidden_layers': 650, 'dropout': 0.2627202710593276, 'learning_rate': 5.4921001842553086e-05}. Best is trial 23 with value: 0.598739504814148.\u001b[0m\n",
      "\u001b[32m[I 2022-07-25 13:11:26,969]\u001b[0m Trial 32 pruned. Trial was pruned at epoch 14.\u001b[0m\n",
      "\u001b[32m[I 2022-07-25 13:11:55,863]\u001b[0m Trial 33 finished with value: 0.5404788851737976 and parameters: {'hidden_layers': 500, 'dropout': 0.12401966674148783, 'learning_rate': 1.2603883193611769e-05}. Best is trial 23 with value: 0.598739504814148.\u001b[0m\n",
      "\u001b[32m[I 2022-07-25 13:12:04,724]\u001b[0m Trial 34 pruned. Trial was pruned at epoch 5.\u001b[0m\n",
      "\u001b[32m[I 2022-07-25 13:12:33,694]\u001b[0m Trial 35 finished with value: 0.5675057172775269 and parameters: {'hidden_layers': 260, 'dropout': 0.17602538019553243, 'learning_rate': 2.250380264599563e-05}. Best is trial 23 with value: 0.598739504814148.\u001b[0m\n",
      "\u001b[32m[I 2022-07-25 13:13:02,945]\u001b[0m Trial 36 finished with value: 0.44062498211860657 and parameters: {'hidden_layers': 700, 'dropout': 0.35631742249418463, 'learning_rate': 5.5207840974821074e-05}. Best is trial 23 with value: 0.598739504814148.\u001b[0m\n",
      "\u001b[32m[I 2022-07-25 13:13:11,851]\u001b[0m Trial 37 pruned. Trial was pruned at epoch 5.\u001b[0m\n",
      "\u001b[32m[I 2022-07-25 13:13:40,346]\u001b[0m Trial 38 finished with value: 0.5722891092300415 and parameters: {'hidden_layers': 520, 'dropout': 0.09134250274431896, 'learning_rate': 9.309818541648687e-05}. Best is trial 23 with value: 0.598739504814148.\u001b[0m\n",
      "\u001b[32m[I 2022-07-25 13:14:08,785]\u001b[0m Trial 39 finished with value: 0.5403587222099304 and parameters: {'hidden_layers': 830, 'dropout': 0.2753743259763842, 'learning_rate': 2.3291405926928292e-05}. Best is trial 23 with value: 0.598739504814148.\u001b[0m\n",
      "\u001b[32m[I 2022-07-25 13:14:37,831]\u001b[0m Trial 40 finished with value: 0.4878048896789551 and parameters: {'hidden_layers': 260, 'dropout': 0.2315498544132989, 'learning_rate': 4.257892411409944e-05}. Best is trial 23 with value: 0.598739504814148.\u001b[0m\n",
      "\u001b[32m[I 2022-07-25 13:15:06,325]\u001b[0m Trial 41 finished with value: 0.5656566023826599 and parameters: {'hidden_layers': 530, 'dropout': 0.08957255922038562, 'learning_rate': 8.384332437299483e-05}. Best is trial 23 with value: 0.598739504814148.\u001b[0m\n",
      "\u001b[32m[I 2022-07-25 13:15:35,163]\u001b[0m Trial 42 finished with value: 0.5818882584571838 and parameters: {'hidden_layers': 560, 'dropout': 0.13917268619953393, 'learning_rate': 9.803169082366589e-05}. Best is trial 23 with value: 0.598739504814148.\u001b[0m\n",
      "\u001b[32m[I 2022-07-25 13:16:03,228]\u001b[0m Trial 43 finished with value: 0.48951050639152527 and parameters: {'hidden_layers': 580, 'dropout': 0.13905401560165795, 'learning_rate': 6.339953444678034e-05}. Best is trial 23 with value: 0.598739504814148.\u001b[0m\n",
      "\u001b[32m[I 2022-07-25 13:16:31,326]\u001b[0m Trial 44 finished with value: 0.5666666626930237 and parameters: {'hidden_layers': 700, 'dropout': 0.3142266187795337, 'learning_rate': 3.531822581909572e-05}. Best is trial 23 with value: 0.598739504814148.\u001b[0m\n",
      "\u001b[32m[I 2022-07-25 13:16:59,298]\u001b[0m Trial 45 finished with value: 0.5387453436851501 and parameters: {'hidden_layers': 610, 'dropout': 0.16888646426776716, 'learning_rate': 5.3340077264701663e-05}. Best is trial 23 with value: 0.598739504814148.\u001b[0m\n",
      "\u001b[32m[I 2022-07-25 13:17:27,943]\u001b[0m Trial 46 finished with value: 0.5282050967216492 and parameters: {'hidden_layers': 320, 'dropout': 0.20055442151670527, 'learning_rate': 9.850594715079561e-05}. Best is trial 23 with value: 0.598739504814148.\u001b[0m\n",
      "\u001b[32m[I 2022-07-25 13:17:56,567]\u001b[0m Trial 47 finished with value: 0.47390687465667725 and parameters: {'hidden_layers': 460, 'dropout': 0.4560272301388707, 'learning_rate': 1.4153455986684446e-05}. Best is trial 23 with value: 0.598739504814148.\u001b[0m\n",
      "\u001b[32m[I 2022-07-25 13:18:24,673]\u001b[0m Trial 48 finished with value: 0.5462273955345154 and parameters: {'hidden_layers': 550, 'dropout': 0.06454786835445696, 'learning_rate': 9.26880046566528e-07}. Best is trial 23 with value: 0.598739504814148.\u001b[0m\n",
      "\u001b[32m[I 2022-07-25 13:18:52,659]\u001b[0m Trial 49 finished with value: 0.5856980681419373 and parameters: {'hidden_layers': 680, 'dropout': 0.13434615711595332, 'learning_rate': 1.7930703979645048e-05}. Best is trial 23 with value: 0.598739504814148.\u001b[0m\n",
      "\u001b[32m[I 2022-07-25 13:19:21,005]\u001b[0m Trial 50 finished with value: 0.5682326555252075 and parameters: {'hidden_layers': 800, 'dropout': 0.11023843923346538, 'learning_rate': 1.9757427007994306e-05}. Best is trial 23 with value: 0.598739504814148.\u001b[0m\n",
      "\u001b[32m[I 2022-07-25 13:19:49,474]\u001b[0m Trial 51 finished with value: 0.3572743833065033 and parameters: {'hidden_layers': 680, 'dropout': 0.1408867300522636, 'learning_rate': 2.8725292706097726e-05}. Best is trial 23 with value: 0.598739504814148.\u001b[0m\n",
      "\u001b[32m[I 2022-07-25 13:20:17,738]\u001b[0m Trial 52 finished with value: 0.5178571939468384 and parameters: {'hidden_layers': 740, 'dropout': 0.18706935570608238, 'learning_rate': 5.906021257473258e-06}. Best is trial 23 with value: 0.598739504814148.\u001b[0m\n",
      "\u001b[32m[I 2022-07-25 13:20:26,512]\u001b[0m Trial 53 pruned. Trial was pruned at epoch 5.\u001b[0m\n",
      "\u001b[32m[I 2022-07-25 13:20:35,111]\u001b[0m Trial 54 pruned. Trial was pruned at epoch 5.\u001b[0m\n",
      "\u001b[32m[I 2022-07-25 13:20:44,031]\u001b[0m Trial 55 pruned. Trial was pruned at epoch 5.\u001b[0m\n",
      "\u001b[32m[I 2022-07-25 13:21:12,604]\u001b[0m Trial 56 finished with value: 0.5687302947044373 and parameters: {'hidden_layers': 410, 'dropout': 0.10152674426333344, 'learning_rate': 2.2631941892614183e-06}. Best is trial 23 with value: 0.598739504814148.\u001b[0m\n",
      "\u001b[32m[I 2022-07-25 13:21:41,099]\u001b[0m Trial 57 finished with value: 0.5601800084114075 and parameters: {'hidden_layers': 750, 'dropout': 0.21134215988408445, 'learning_rate': 1.7596606088633223e-05}. Best is trial 23 with value: 0.598739504814148.\u001b[0m\n",
      "\u001b[32m[I 2022-07-25 13:22:10,054]\u001b[0m Trial 58 finished with value: 0.5620512962341309 and parameters: {'hidden_layers': 490, 'dropout': 0.15664393618399358, 'learning_rate': 5.05665585264328e-05}. Best is trial 23 with value: 0.598739504814148.\u001b[0m\n",
      "\u001b[32m[I 2022-07-25 13:22:38,625]\u001b[0m Trial 59 finished with value: 0.5343136787414551 and parameters: {'hidden_layers': 880, 'dropout': 0.1885647311816744, 'learning_rate': 3.112982554511657e-05}. Best is trial 23 with value: 0.598739504814148.\u001b[0m\n",
      "\u001b[32m[I 2022-07-25 13:22:47,589]\u001b[0m Trial 60 pruned. Trial was pruned at epoch 5.\u001b[0m\n",
      "\u001b[32m[I 2022-07-25 13:23:16,178]\u001b[0m Trial 61 finished with value: 0.5739514827728271 and parameters: {'hidden_layers': 530, 'dropout': 0.0944588507629778, 'learning_rate': 9.963905521348483e-05}. Best is trial 23 with value: 0.598739504814148.\u001b[0m\n",
      "\u001b[32m[I 2022-07-25 13:24:26,211]\u001b[0m Trial 62 finished with value: 0.5504152178764343 and parameters: {'hidden_layers': 630, 'dropout': 0.12163912392994246, 'learning_rate': 7.299804706108964e-05}. Best is trial 23 with value: 0.598739504814148.\u001b[0m\n",
      "\u001b[32m[I 2022-07-25 13:24:54,687]\u001b[0m Trial 63 finished with value: 0.4314381182193756 and parameters: {'hidden_layers': 550, 'dropout': 0.022468497261741466, 'learning_rate': 9.932269397412917e-05}. Best is trial 23 with value: 0.598739504814148.\u001b[0m\n",
      "\u001b[32m[I 2022-07-25 13:25:03,479]\u001b[0m Trial 64 pruned. Trial was pruned at epoch 5.\u001b[0m\n",
      "\u001b[32m[I 2022-07-25 13:25:32,138]\u001b[0m Trial 65 finished with value: 0.5382775068283081 and parameters: {'hidden_layers': 510, 'dropout': 0.058435891870361384, 'learning_rate': 4.231868610188212e-05}. Best is trial 23 with value: 0.598739504814148.\u001b[0m\n",
      "\u001b[32m[I 2022-07-25 13:25:40,876]\u001b[0m Trial 66 pruned. Trial was pruned at epoch 5.\u001b[0m\n",
      "\u001b[32m[I 2022-07-25 13:26:09,767]\u001b[0m Trial 67 finished with value: 0.549835741519928 and parameters: {'hidden_layers': 390, 'dropout': 0.14730008214855297, 'learning_rate': 7.835825253975736e-05}. Best is trial 23 with value: 0.598739504814148.\u001b[0m\n",
      "\u001b[32m[I 2022-07-25 13:26:18,840]\u001b[0m Trial 68 pruned. Trial was pruned at epoch 5.\u001b[0m\n",
      "\u001b[32m[I 2022-07-25 13:26:47,553]\u001b[0m Trial 69 finished with value: 0.5494737029075623 and parameters: {'hidden_layers': 780, 'dropout': 0.03185611691262985, 'learning_rate': 6.562605664040509e-05}. Best is trial 23 with value: 0.598739504814148.\u001b[0m\n",
      "\u001b[32m[I 2022-07-25 13:27:05,060]\u001b[0m Trial 70 pruned. Trial was pruned at epoch 11.\u001b[0m\n",
      "\u001b[32m[I 2022-07-25 13:27:13,960]\u001b[0m Trial 71 pruned. Trial was pruned at epoch 5.\u001b[0m\n",
      "\u001b[32m[I 2022-07-25 13:27:42,639]\u001b[0m Trial 72 finished with value: 0.5803758502006531 and parameters: {'hidden_layers': 580, 'dropout': 0.10573343314376416, 'learning_rate': 4.8102273447877515e-05}. Best is trial 23 with value: 0.598739504814148.\u001b[0m\n",
      "\u001b[32m[I 2022-07-25 13:28:11,458]\u001b[0m Trial 73 finished with value: 0.5372781157493591 and parameters: {'hidden_layers': 590, 'dropout': 0.10250196132819767, 'learning_rate': 4.840037019099546e-05}. Best is trial 23 with value: 0.598739504814148.\u001b[0m\n",
      "\u001b[32m[I 2022-07-25 13:28:48,682]\u001b[0m Trial 74 finished with value: 0.5541125535964966 and parameters: {'hidden_layers': 630, 'dropout': 0.1770751863266218, 'learning_rate': 3.423673603392412e-05}. Best is trial 23 with value: 0.598739504814148.\u001b[0m\n",
      "\u001b[32m[I 2022-07-25 13:29:18,337]\u001b[0m Trial 75 finished with value: 0.556291401386261 and parameters: {'hidden_layers': 570, 'dropout': 0.15616501046898096, 'learning_rate': 2.786591778133049e-05}. Best is trial 23 with value: 0.598739504814148.\u001b[0m\n",
      "\u001b[32m[I 2022-07-25 13:29:46,876]\u001b[0m Trial 76 finished with value: 0.507317066192627 and parameters: {'hidden_layers': 470, 'dropout': 0.1329637401674105, 'learning_rate': 6.102252679275983e-05}. Best is trial 23 with value: 0.598739504814148.\u001b[0m\n",
      "\u001b[32m[I 2022-07-25 13:30:15,334]\u001b[0m Trial 77 finished with value: 0.5610034465789795 and parameters: {'hidden_layers': 680, 'dropout': 0.10997628674731105, 'learning_rate': 4.517237891750689e-05}. Best is trial 23 with value: 0.598739504814148.\u001b[0m\n",
      "\u001b[32m[I 2022-07-25 13:30:43,940]\u001b[0m Trial 78 finished with value: 0.5404813885688782 and parameters: {'hidden_layers': 420, 'dropout': 0.22044157732464215, 'learning_rate': 7.683351617189355e-05}. Best is trial 23 with value: 0.598739504814148.\u001b[0m\n",
      "\u001b[32m[I 2022-07-25 13:31:12,385]\u001b[0m Trial 79 finished with value: 0.5178571939468384 and parameters: {'hidden_layers': 610, 'dropout': 0.19762621935649485, 'learning_rate': 6.722730118671288e-06}. Best is trial 23 with value: 0.598739504814148.\u001b[0m\n",
      "\u001b[32m[I 2022-07-25 13:31:43,220]\u001b[0m Trial 80 finished with value: 0.521261990070343 and parameters: {'hidden_layers': 540, 'dropout': 0.0724323232971073, 'learning_rate': 1.6905704395396065e-05}. Best is trial 23 with value: 0.598739504814148.\u001b[0m\n",
      "\u001b[32m[I 2022-07-25 13:32:11,071]\u001b[0m Trial 81 finished with value: 0.5376593470573425 and parameters: {'hidden_layers': 510, 'dropout': 0.04897235765632798, 'learning_rate': 8.74674522552268e-05}. Best is trial 23 with value: 0.598739504814148.\u001b[0m\n",
      "\u001b[32m[I 2022-07-25 13:32:38,787]\u001b[0m Trial 82 finished with value: 0.4849279224872589 and parameters: {'hidden_layers': 340, 'dropout': 0.08280267385143483, 'learning_rate': 5.896110193887417e-05}. Best is trial 23 with value: 0.598739504814148.\u001b[0m\n",
      "\u001b[32m[I 2022-07-25 13:33:06,448]\u001b[0m Trial 83 finished with value: 0.5518814325332642 and parameters: {'hidden_layers': 640, 'dropout': 0.11498286116326906, 'learning_rate': 9.902527522768975e-05}. Best is trial 23 with value: 0.598739504814148.\u001b[0m\n",
      "\u001b[32m[I 2022-07-25 13:33:34,041]\u001b[0m Trial 84 finished with value: 0.5498782992362976 and parameters: {'hidden_layers': 580, 'dropout': 0.08972280593415503, 'learning_rate': 7.546383369504839e-05}. Best is trial 23 with value: 0.598739504814148.\u001b[0m\n",
      "\u001b[32m[I 2022-07-25 13:33:45,176]\u001b[0m Trial 85 pruned. Trial was pruned at epoch 7.\u001b[0m\n",
      "\u001b[32m[I 2022-07-25 13:34:12,550]\u001b[0m Trial 86 finished with value: 0.4892703592777252 and parameters: {'hidden_layers': 530, 'dropout': 0.17056698643402057, 'learning_rate': 4.7927254595092015e-05}. Best is trial 23 with value: 0.598739504814148.\u001b[0m\n",
      "\u001b[32m[I 2022-07-25 13:34:40,125]\u001b[0m Trial 87 finished with value: 0.5619146823883057 and parameters: {'hidden_layers': 440, 'dropout': 0.26385559964533023, 'learning_rate': 2.4330815191844755e-05}. Best is trial 23 with value: 0.598739504814148.\u001b[0m\n",
      "\u001b[32m[I 2022-07-25 13:35:07,516]\u001b[0m Trial 88 finished with value: 0.5905511975288391 and parameters: {'hidden_layers': 670, 'dropout': 0.09942931749015849, 'learning_rate': 8.138649433142183e-05}. Best is trial 23 with value: 0.598739504814148.\u001b[0m\n",
      "\u001b[32m[I 2022-07-25 13:35:34,957]\u001b[0m Trial 89 finished with value: 0.5301507115364075 and parameters: {'hidden_layers': 670, 'dropout': 0.12066717273552592, 'learning_rate': 3.198182753784851e-05}. Best is trial 23 with value: 0.598739504814148.\u001b[0m\n",
      "\u001b[32m[I 2022-07-25 13:36:02,508]\u001b[0m Trial 90 finished with value: 0.5404101014137268 and parameters: {'hidden_layers': 810, 'dropout': 0.16077406987056803, 'learning_rate': 6.759218102004203e-05}. Best is trial 23 with value: 0.598739504814148.\u001b[0m\n",
      "\u001b[32m[I 2022-07-25 13:36:30,014]\u001b[0m Trial 91 finished with value: 0.5502008199691772 and parameters: {'hidden_layers': 610, 'dropout': 0.09944599930364638, 'learning_rate': 9.217924103637876e-05}. Best is trial 23 with value: 0.598739504814148.\u001b[0m\n",
      "\u001b[32m[I 2022-07-25 13:36:57,682]\u001b[0m Trial 92 finished with value: 0.5849639773368835 and parameters: {'hidden_layers': 490, 'dropout': 0.06532749161190372, 'learning_rate': 8.179702396388604e-05}. Best is trial 23 with value: 0.598739504814148.\u001b[0m\n",
      "\u001b[32m[I 2022-07-25 13:38:25,542]\u001b[0m Trial 93 finished with value: 0.40071552991867065 and parameters: {'hidden_layers': 760, 'dropout': 0.13222334580441195, 'learning_rate': 5.464972603309419e-05}. Best is trial 23 with value: 0.598739504814148.\u001b[0m\n",
      "\u001b[32m[I 2022-07-25 13:38:53,075]\u001b[0m Trial 94 finished with value: 0.4928774833679199 and parameters: {'hidden_layers': 490, 'dropout': 0.05656274221763252, 'learning_rate': 8.15585458015592e-05}. Best is trial 23 with value: 0.598739504814148.\u001b[0m\n",
      "\u001b[32m[I 2022-07-25 13:39:20,647]\u001b[0m Trial 95 finished with value: 0.5779092311859131 and parameters: {'hidden_layers': 570, 'dropout': 0.06685968322763544, 'learning_rate': 3.842267004422402e-05}. Best is trial 23 with value: 0.598739504814148.\u001b[0m\n",
      "\u001b[32m[I 2022-07-25 13:39:48,045]\u001b[0m Trial 96 finished with value: 0.46203553676605225 and parameters: {'hidden_layers': 560, 'dropout': 0.06264314962156849, 'learning_rate': 4.056902850474906e-05}. Best is trial 23 with value: 0.598739504814148.\u001b[0m\n",
      "\u001b[32m[I 2022-07-25 13:39:56,507]\u001b[0m Trial 97 pruned. Trial was pruned at epoch 5.\u001b[0m\n",
      "\u001b[32m[I 2022-07-25 13:40:24,223]\u001b[0m Trial 98 finished with value: 0.5517241954803467 and parameters: {'hidden_layers': 470, 'dropout': 0.07196747004312941, 'learning_rate': 3.0851977474750484e-06}. Best is trial 23 with value: 0.598739504814148.\u001b[0m\n",
      "\u001b[32m[I 2022-07-25 13:40:51,738]\u001b[0m Trial 99 finished with value: 0.5326876044273376 and parameters: {'hidden_layers': 400, 'dropout': 0.11346580914335316, 'learning_rate': 4.9230043583438516e-05}. Best is trial 23 with value: 0.598739504814148.\u001b[0m\n"
     ]
    },
    {
     "name": "stdout",
     "output_type": "stream",
     "text": [
      "Number of finished trials: 100\n",
      "Best trial:\n",
      "  Value: 0.598739504814148\n",
      "  Params: \n",
      "    hidden_layers: 650\n",
      "    dropout: 0.11177468732734488\n",
      "    learning_rate: 3.8398501413668467e-05\n"
     ]
    }
   ],
   "source": [
    "MAX_EPOCHS = 20\n",
    "\n",
    "# Get the bias of the dataset to adjust the loss with a weight see https://pytorch.org/docs/stable/generated/torch.nn.BCEWithLogitsLoss.html\n",
    "_, counts = np.unique(df[\"Professional\"], return_counts=True)\n",
    "dataset_bias = counts[0] / counts[1]\n",
    "\n",
    "# configure logging at the root level of Lightning\n",
    "logging.getLogger(\"pytorch_lightning\").setLevel(logging.ERROR)\n",
    "def objective(trial: optuna.Trial):\n",
    "    # Getting Hyperparameter\n",
    "    hidden_layers = trial.suggest_int(\"hidden_layers\", 10, 1000, step=10)\n",
    "    dropout = trial.suggest_float(\"dropout\", 0, 0.5)\n",
    "    learning_rate = trial.suggest_float(\"learning_rate\", 1e-7, 1e-4, log=True)\n",
    "    # For the right logging of hyperparameter\n",
    "    hyperparameters = dict(hidden_layers=hidden_layers, dropout=dropout, learning_rate=learning_rate)\n",
    "\n",
    "    # Instanciate DataModule and Model\n",
    "    subset_df = df[:10000]\n",
    "    dm = CsgoProfessionalDataModule(subset_df, 32)\n",
    "    model = CsgoProfessionalClassifier(learning_rate, hidden_layers, dropout, loss_weight=dataset_bias)\n",
    "\n",
    "    # Trainer\n",
    "    trainer = pl.Trainer(\n",
    "        logger=True,\n",
    "        enable_checkpointing=False,\n",
    "        max_epochs=MAX_EPOCHS,\n",
    "        gpus=1 if torch.cuda.is_available() else None,\n",
    "        enable_progress_bar = False,\n",
    "        enable_model_summary=False,\n",
    "        callbacks=[PyTorchLightningPruningCallback(trial, monitor=\"F1Score\")],\n",
    "    )\n",
    "    trainer.logger.log_hyperparams(hyperparameters)\n",
    "    trainer.fit(model, datamodule=dm)\n",
    "\n",
    "    return trainer.callback_metrics[\"F1Score\"].item()\n",
    "\n",
    "# Don't Prune in the first 5 epochs\n",
    "pruner = optuna.pruners.MedianPruner(n_warmup_steps=5)\n",
    "study = optuna.create_study(direction=\"maximize\", pruner=pruner)\n",
    "study.optimize(objective, n_trials=100, timeout=5*60*60)\n",
    "\n",
    "print(\"Number of finished trials: {}\".format(len(study.trials)))\n",
    "\n",
    "print(\"Best trial:\")\n",
    "trial = study.best_trial\n",
    "\n",
    "print(\"  Value: {}\".format(trial.value))\n",
    "\n",
    "print(\"  Params: \")\n",
    "for key, value in trial.params.items():\n",
    "    print(\"    {}: {}\".format(key, value))\n",
    "\n",
    "\n",
    "# configure logging at the root level of Lightning\n",
    "logging.getLogger(\"pytorch_lightning\").setLevel(logging.INFO)"
   ]
  },
  {
   "cell_type": "markdown",
   "metadata": {},
   "source": [
    "## Finales Training\n",
    "\n",
    "Schlussendlich wird das neuronale Netz auf den kompletten Datensatz über 200 Epochen mit der optimelen Kombination an Hyperparametern trainiert. Die Validierungs-Metriken werden wie im 3. Notebook auch in einen DataFrame gespeichert."
   ]
  },
  {
   "cell_type": "code",
   "execution_count": 6,
   "metadata": {},
   "outputs": [
    {
     "name": "stderr",
     "output_type": "stream",
     "text": [
      "GPU available: True, used: True\n",
      "TPU available: False, using: 0 TPU cores\n",
      "IPU available: False, using: 0 IPUs\n",
      "HPU available: False, using: 0 HPUs\n",
      "LOCAL_RANK: 0 - CUDA_VISIBLE_DEVICES: [0]\n",
      "\n",
      "  | Name    | Type              | Params\n",
      "----------------------------------------------\n",
      "0 | layers  | Sequential        | 430 K \n",
      "1 | loss    | BCEWithLogitsLoss | 0     \n",
      "2 | sigmoid | Sigmoid           | 0     \n",
      "3 | metrics | MetricCollection  | 0     \n",
      "----------------------------------------------\n",
      "430 K     Trainable params\n",
      "0         Non-trainable params\n",
      "430 K     Total params\n",
      "1.721     Total estimated model params size (MB)\n"
     ]
    },
    {
     "data": {
      "text/plain": [
       "{'train_loss': tensor(0.6690),\n",
       " 'val_loss': tensor(0.7543),\n",
       " 'Accuracy': tensor(0.6517),\n",
       " 'F1Score': tensor(0.5812),\n",
       " 'Precision': tensor(0.5464),\n",
       " 'Recall': tensor(0.6208)}"
      ]
     },
     "execution_count": 6,
     "metadata": {},
     "output_type": "execute_result"
    }
   ],
   "source": [
    "hidden_layers = study.best_params[\"hidden_layers\"]\n",
    "dropout = study.best_params[\"dropout\"]\n",
    "learning_rate = study.best_params[\"learning_rate\"]\n",
    "\n",
    "dm = CsgoProfessionalDataModule(df, 32)\n",
    "model = CsgoProfessionalClassifier(learning_rate, hidden_layers, dropout, loss_weight=dataset_bias)\n",
    "\n",
    "trainer = pl.Trainer(\n",
    "    logger=True,\n",
    "    enable_checkpointing=True,\n",
    "    max_epochs=200,\n",
    "    gpus=1 if torch.cuda.is_available() else None,\n",
    ")\n",
    "hyperparameters = dict(hidden_layers=hidden_layers, dropout=dropout, learning_rate=learning_rate)\n",
    "trainer.logger.log_hyperparams(hyperparameters)\n",
    "\n",
    "start_time = time.time()\n",
    "trainer.fit(model, datamodule=dm)\n",
    "duration = time.time() - start_time\n",
    "trainer.callback_metrics"
   ]
  },
  {
   "cell_type": "code",
   "execution_count": 12,
   "metadata": {},
   "outputs": [],
   "source": [
    "training_results = []\n",
    "training_results.append({\"Method\": \"Neural Net\", \"Metric\": \"Precision\", \"Value\": trainer.callback_metrics[\"Precision\"].item()})\n",
    "training_results.append({\"Method\": \"Neural Net\", \"Metric\": \"Recall\", \"Value\": trainer.callback_metrics[\"Recall\"].item()})\n",
    "training_results.append({\"Method\": \"Neural Net\", \"Metric\": \"F1\", \"Value\": trainer.callback_metrics[\"F1Score\"].item()})\n",
    "training_results.append({\"Method\": \"Neural Net\", \"Metric\": \"Accuracy\", \"Value\": trainer.callback_metrics[\"Accuracy\"].item()})\n",
    "training_results.append({\"Method\": \"Neural Net\", \"Metric\": \"Duration\", \"Value\": duration})\n",
    "nn_df = pd.DataFrame(training_results)"
   ]
  },
  {
   "cell_type": "markdown",
   "metadata": {},
   "source": [
    "## Evaluation & Vergleich\n",
    "\n",
    "Zuerst werden die beiden Ergebnis-DataFrames aus dem 3. und diesem Notebook zusammengefügt. Darauf hin werden die 5 Modelle über die 4 Metriken gegenübergestellt. Es zeigt sich, dass die SVM im Vergleich besonders schlecht im Vergleich abschneidet, dabei besonders wenig (<40%) professionelle Spieler erkennt (underfitting). Das Perceptron erkennt mit abspant am meisten (<80%) der professionellen Spieler im Datensatz, ordnet wie die etwas geringere Precision zeigt jedoch häufig auch Spieler fälschlicherweiße den professionellen zu (overfitting). Das neuronale Netz schneidet insgesamt am besten ab: Es overfittet und underfittet nicht stark und weißt höheren Recall und Precision und somit auch F1 Werte auf als die Logistic und Ridge Classifier sowie die SVM.\n",
    "\n",
    "Darauf wird die Trainingszeit der Modelle gegenübergestellt, es ist die logarithmische Skala zu beachten: SVM und das neuronale Netz benötigen einen enorm großen Trainingsaufwand, am schnellsten trainiert der Ridge Classifier.\n",
    "\n",
    "**Bezieht man sich somit auf sowohl die Effektivität als auch die Effizient der Modelle so schneidet das Perceptron mit seiner recht geringen Trainingszeit, geringen Komplexität und trotzdem sehr guten Ergebnisse am besten ab.**"
   ]
  },
  {
   "cell_type": "code",
   "execution_count": 13,
   "metadata": {},
   "outputs": [],
   "source": [
    "viz_df: pd.DataFrame = pd.read_feather(\"../data/3-test-results-sklearn.feather\")\n",
    "viz_df = pd.concat([viz_df, nn_df], axis=0)"
   ]
  },
  {
   "cell_type": "code",
   "execution_count": 14,
   "metadata": {},
   "outputs": [
    {
     "data": {
      "text/plain": [
       "<AxesSubplot:xlabel='Metric', ylabel='Value'>"
      ]
     },
     "execution_count": 14,
     "metadata": {},
     "output_type": "execute_result"
    },
    {
     "data": {
      "image/png": "[encoded data removed]",
      "text/plain": [
       "<Figure size 432x288 with 1 Axes>"
      ]
     },
     "metadata": {
      "needs_background": "light"
     },
     "output_type": "display_data"
    }
   ],
   "source": [
    "sns.barplot(data=viz_df[viz_df[\"Metric\"] != \"Duration\"], x=\"Metric\", y=\"Value\", hue=\"Method\")"
   ]
  },
  {
   "cell_type": "code",
   "execution_count": 16,
   "metadata": {},
   "outputs": [
    {
     "data": {
      "text/plain": [
       "<AxesSubplot:xlabel='Metric', ylabel='Value'>"
      ]
     },
     "execution_count": 16,
     "metadata": {},
     "output_type": "execute_result"
    },
    {
     "data": {
      "image/png": "[encoded data removed]",
      "text/plain": [
       "<Figure size 432x288 with 1 Axes>"
      ]
     },
     "metadata": {
      "needs_background": "light"
     },
     "output_type": "display_data"
    }
   ],
   "source": [
    "sns.barplot(data=viz_df[viz_df[\"Metric\"] == \"Duration\"], x=\"Metric\", y=\"Value\", hue=\"Method\", log=True)"
   ]
  }
 ],
 "metadata": {
  "kernelspec": {
   "display_name": "Python 3.9.12 ('csgo-data-analysis-RAygu18h-py3.9')",
   "language": "python",
   "name": "python3"
  },
  "language_info": {
   "codemirror_mode": {
    "name": "ipython",
    "version": 3
   },
   "file_extension": ".py",
   "mimetype": "text/x-python",
   "name": "python",
   "nbconvert_exporter": "python",
   "pygments_lexer": "ipython3",
   "version": "3.9.12"
  },
  "orig_nbformat": 4,
  "vscode": {
   "interpreter": {
    "hash": "07048d6bb5e5d862ed779752ffdca571d1088506dea3a367b4c3c3029cbc5825"
   }
  }
 },
 "nbformat": 4,
 "nbformat_minor": 2
}
